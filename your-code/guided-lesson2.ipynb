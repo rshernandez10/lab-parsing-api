{
 "cells": [
  {
   "cell_type": "markdown",
   "metadata": {},
   "source": [
    "# Parsing APIs Example"
   ]
  },
  {
   "cell_type": "markdown",
   "metadata": {},
   "source": [
    "## Intro\n",
    "\n",
    "Now we will take a look on a real data. When you parse data from web you will often meet API based web-pages. \n",
    "\n",
    "For example [zalando.fr](https://www.zalando.fr/accueil-homme/) is API based web-page. \n",
    "\n",
    "In this guided lab you will learn how to obtain the links from webpages and extract the data. Read through this doc, execute the cells in order and make sure you understand the explanations. \n",
    "\n",
    "*Note: This guided lab uses Google Chrome. Other browsers like Safari and Firefox have similar tools for developers but they work differently. To save your time in following this lab, it is strongly recommended that you install and use Google Chrome.*"
   ]
  },
  {
   "cell_type": "markdown",
   "metadata": {},
   "source": [
    "## Obtaining the link\n",
    "\n",
    "Zalando is discount e-store where you can buy clothes and accesories with discount. When we go to the web-page, we can choose different sections. First the general process will be shown using [Children section](https://www.zalando.fr/accueil-enfant/) as example.\n",
    "\n",
    "Here we will parse data about promotions only. Therefore, final output will be the DataFrame with all the goods under discount.\n",
    "\n",
    "[![Image from Gyazo](https://i.gyazo.com/fa4874d8e81c7570273bbfb853d66308.png)](https://gyazo.com/fa4874d8e81c7570273bbfb853d66308)\n",
    "\n",
    "\n",
    "We go to Promos page. Right click of mouse shows us a list of actions possible, from which we select Inspect.\n",
    "\n",
    "<img src='https://i.gyazo.com/bccbd11d69c9040dc98758d443e32052.png' width=\"400\">\n",
    "\n",
    "\n",
    "You will see the menu dropdown on the right side or on the bottom of the window. There you should click on Network:\n",
    "\n",
    "\n",
    "[![Image from Gyazo](https://i.gyazo.com/f7e0db81cbfee67694183d1a7640bf81.png)](https://gyazo.com/f7e0db81cbfee67694183d1a7640bf81)"
   ]
  },
  {
   "cell_type": "markdown",
   "metadata": {},
   "source": [
    "Right after the developer part will change showing the files behind the page. In order to obtain only useful files we select the following settings:\n",
    "1. Preserve Log\n",
    "2. Select XHR files.\n",
    "\n",
    "[![Image from Gyazo](https://i.gyazo.com/9a899d4441d9d93e795f79747f1e47d5.png)](https://gyazo.com/9a899d4441d9d93e795f79747f1e47d5)\n",
    "\n",
    "In order to obtain some files we need to scrool down and go forward to second page. \n",
    "\n",
    "[![Image from Gyazo](https://i.gyazo.com/0956eb3d5125075a236c9a439c7749c7.png)](https://gyazo.com/0956eb3d5125075a236c9a439c7749c7)\n",
    "\n",
    "In the Network panel you can see the following files being uploaded. All the data on the web-page is uploaded from the json file, which is one of the following. It is important to understand which file contains what kind of information. \n",
    "\n",
    "<a href=\"https://gyazo.com/cf97a655869f0b22df0ada1cb2a41c3c\"><img src=\"https://i.gyazo.com/cf97a655869f0b22df0ada1cb2a41c3c.png\" alt=\"Image from Gyazo\" width=\"724.8\"/></a>\n",
    "\n",
    "When you find what kind of information you need for the data to be uploaded you just test it. Here we need the article... file:\n",
    "\n",
    "<a href=\"https://gyazo.com/78b35bf492994b3f35c0564a21da202a\"><img src=\"https://i.gyazo.com/78b35bf492994b3f35c0564a21da202a.png\" alt=\"Image from Gyazo\" width=\"727.2\"/></a>\n",
    "\n",
    "When we test the link in Chrome inkognito mode we obtain the proper json file:\n",
    "\n",
    "\n",
    "<a href=\"https://gyazo.com/b60453fa98454fa29771c731a5174443\"><img src=\"https://i.gyazo.com/b60453fa98454fa29771c731a5174443.png\" alt=\"Image from Gyazo\" width=\"1530.4\"/></a>"
   ]
  },
  {
   "cell_type": "markdown",
   "metadata": {},
   "source": [
    "In order to change the objects in the json file (kind of pagination), you need to change the offset (the number of the first element on the page). in fact, if you take a look on the link, it is easy to unerstand the structure of the link.\n",
    "\n",
    "# Reading the data\n",
    "\n",
    "Now the party rocks! When we know how can we obtain the data, it is not a problem to obtain the whole database with all the data from the web-page.\n",
    "In this lab you will collect your database of Zalando products. You select which goods you want to track. You can define as many filters to your data as you want. Just make sure that the data represents the filters.\n",
    "\n",
    "\n"
   ]
  },
  {
   "cell_type": "code",
   "execution_count": 1,
   "metadata": {},
   "outputs": [],
   "source": [
    "import json\n",
    "import requests\n",
    "import pandas as pd\n",
    "from pandas.io.json import json_normalize\n",
    "usr_agent = 'Mozilla/5.0 (Windows NT 10.0; Win64; x64) AppleWebKit/537.36 (KHTML, like Gecko) Chrome/81.0.4044.141 Safari/537.36'\n",
    "headers = {'User-Agent' : usr_agent}"
   ]
  },
  {
   "cell_type": "code",
   "execution_count": 2,
   "metadata": {},
   "outputs": [],
   "source": [
    "# Paste the url you obtained for your data\n",
    "url='https://www.zalando.fr/api/catalog/articles?categories=promo-enfant&limit=84&offset=84&sort=sale'"
   ]
  },
  {
   "cell_type": "markdown",
   "metadata": {},
   "source": [
    "#### Collect first 84 object of the of the data (1st page)\n",
    "\n",
    "Your output should be a Pandas DataFrame of goods. Each row should contain only text or numbers, having *family_articles, flags, media* and *sizes* remaining lists (they are exceptions)."
   ]
  },
  {
   "cell_type": "code",
   "execution_count": 4,
   "metadata": {},
   "outputs": [
    {
     "name": "stderr",
     "output_type": "stream",
     "text": [
      "C:\\Users\\rsher\\anaconda3\\lib\\site-packages\\ipykernel_launcher.py:8: FutureWarning: pandas.io.json.json_normalize is deprecated, use pandas.json_normalize instead\n",
      "  \n",
      "C:\\Users\\rsher\\anaconda3\\lib\\site-packages\\ipykernel_launcher.py:10: FutureWarning: pandas.io.json.json_normalize is deprecated, use pandas.json_normalize instead\n",
      "  # Remove the CWD from sys.path while we load stuff.\n"
     ]
    },
    {
     "data": {
      "text/html": [
       "<div>\n",
       "<style scoped>\n",
       "    .dataframe tbody tr th:only-of-type {\n",
       "        vertical-align: middle;\n",
       "    }\n",
       "\n",
       "    .dataframe tbody tr th {\n",
       "        vertical-align: top;\n",
       "    }\n",
       "\n",
       "    .dataframe thead th {\n",
       "        text-align: right;\n",
       "    }\n",
       "</style>\n",
       "<table border=\"1\" class=\"dataframe\">\n",
       "  <thead>\n",
       "    <tr style=\"text-align: right;\">\n",
       "      <th></th>\n",
       "      <th>sku</th>\n",
       "      <th>name</th>\n",
       "      <th>sizes</th>\n",
       "      <th>url_key</th>\n",
       "      <th>media</th>\n",
       "      <th>brand_name</th>\n",
       "      <th>is_premium</th>\n",
       "      <th>family_articles</th>\n",
       "      <th>flags</th>\n",
       "      <th>product_group</th>\n",
       "      <th>delivery_promises</th>\n",
       "      <th>price.original</th>\n",
       "      <th>price.promotional</th>\n",
       "      <th>price.has_different_prices</th>\n",
       "      <th>price.has_different_original_prices</th>\n",
       "      <th>price.has_different_promotional_prices</th>\n",
       "      <th>price.has_discount_on_selected_sizes_only</th>\n",
       "    </tr>\n",
       "  </thead>\n",
       "  <tbody>\n",
       "    <tr>\n",
       "      <th>0</th>\n",
       "      <td>AD116D008-A12</td>\n",
       "      <td>STAN SMITH - Baskets basses - white/bold pink</td>\n",
       "      <td>[36, 38, 40, 35 1/2, 36 2/3, 37 1/3, 38 2/3]</td>\n",
       "      <td>adidas-originals-stan-smith-baskets-basses-ad1...</td>\n",
       "      <td>[{'path': 'AD/11/6D/00/8A/12/AD116D008-A12@12....</td>\n",
       "      <td>adidas Originals</td>\n",
       "      <td>False</td>\n",
       "      <td>[{'sku': 'AD116D008-A12', 'url_key': 'adidas-o...</td>\n",
       "      <td>[{'key': 'discountRate', 'value': 'Jusqu’à -15...</td>\n",
       "      <td>shoe</td>\n",
       "      <td>[]</td>\n",
       "      <td>64,95 €</td>\n",
       "      <td>54,95 €</td>\n",
       "      <td>True</td>\n",
       "      <td>False</td>\n",
       "      <td>True</td>\n",
       "      <td>False</td>\n",
       "    </tr>\n",
       "    <tr>\n",
       "      <th>1</th>\n",
       "      <td>NI124D01C-C11</td>\n",
       "      <td>AMPLIFY HOODED COVERALL BABY - Combinaison - b...</td>\n",
       "      <td>[0-3m, 3m, 6m, 9m]</td>\n",
       "      <td>nike-sportswear-amplify-hooded-coverall-baby-c...</td>\n",
       "      <td>[{'path': 'NI/12/4D/01/CC/11/NI124D01C-C11@2.j...</td>\n",
       "      <td>Nike Sportswear</td>\n",
       "      <td>False</td>\n",
       "      <td>[{'sku': 'NI124D01C-C11', 'url_key': 'nike-spo...</td>\n",
       "      <td>[{'key': 'discountRate', 'value': '-10%', 'tra...</td>\n",
       "      <td>clothing</td>\n",
       "      <td>[]</td>\n",
       "      <td>34,95 €</td>\n",
       "      <td>31,45 €</td>\n",
       "      <td>False</td>\n",
       "      <td>False</td>\n",
       "      <td>False</td>\n",
       "      <td>False</td>\n",
       "    </tr>\n",
       "  </tbody>\n",
       "</table>\n",
       "</div>"
      ],
      "text/plain": [
       "             sku                                               name  \\\n",
       "0  AD116D008-A12      STAN SMITH - Baskets basses - white/bold pink   \n",
       "1  NI124D01C-C11  AMPLIFY HOODED COVERALL BABY - Combinaison - b...   \n",
       "\n",
       "                                          sizes  \\\n",
       "0  [36, 38, 40, 35 1/2, 36 2/3, 37 1/3, 38 2/3]   \n",
       "1                            [0-3m, 3m, 6m, 9m]   \n",
       "\n",
       "                                             url_key  \\\n",
       "0  adidas-originals-stan-smith-baskets-basses-ad1...   \n",
       "1  nike-sportswear-amplify-hooded-coverall-baby-c...   \n",
       "\n",
       "                                               media        brand_name  \\\n",
       "0  [{'path': 'AD/11/6D/00/8A/12/AD116D008-A12@12....  adidas Originals   \n",
       "1  [{'path': 'NI/12/4D/01/CC/11/NI124D01C-C11@2.j...   Nike Sportswear   \n",
       "\n",
       "   is_premium                                    family_articles  \\\n",
       "0       False  [{'sku': 'AD116D008-A12', 'url_key': 'adidas-o...   \n",
       "1       False  [{'sku': 'NI124D01C-C11', 'url_key': 'nike-spo...   \n",
       "\n",
       "                                               flags product_group  \\\n",
       "0  [{'key': 'discountRate', 'value': 'Jusqu’à -15...          shoe   \n",
       "1  [{'key': 'discountRate', 'value': '-10%', 'tra...      clothing   \n",
       "\n",
       "  delivery_promises price.original price.promotional  \\\n",
       "0                []        64,95 €           54,95 €   \n",
       "1                []        34,95 €           31,45 €   \n",
       "\n",
       "   price.has_different_prices  price.has_different_original_prices  \\\n",
       "0                        True                                False   \n",
       "1                       False                                False   \n",
       "\n",
       "   price.has_different_promotional_prices  \\\n",
       "0                                    True   \n",
       "1                                   False   \n",
       "\n",
       "   price.has_discount_on_selected_sizes_only  \n",
       "0                                      False  \n",
       "1                                      False  "
      ]
     },
     "execution_count": 4,
     "metadata": {},
     "output_type": "execute_result"
    }
   ],
   "source": [
    "# Your code\n",
    "\n",
    "response = requests.get(url,headers=headers)\n",
    "results = response.json()\n",
    "results\n",
    "\n",
    "\n",
    "flattened_data = json_normalize(results)\n",
    "\n",
    "flattened_data1 = json_normalize(flattened_data.articles[0])\n",
    "flattened_data1.head(2)"
   ]
  },
  {
   "cell_type": "markdown",
   "metadata": {},
   "source": [
    "#### Collect all the objects from selected filters. Total number of pages can be found in the same json. Use *sku* column as index.\n",
    "\n",
    "Your output should be a Pandas DataFrame of goods. Each row should contain only text or numbers, having family_articles, flags, media and sizes remaining lists (they are exceptions)."
   ]
  },
  {
   "cell_type": "code",
   "execution_count": 12,
   "metadata": {},
   "outputs": [
    {
     "name": "stderr",
     "output_type": "stream",
     "text": [
      "C:\\Users\\rsher\\anaconda3\\lib\\site-packages\\ipykernel_launcher.py:14: FutureWarning: pandas.io.json.json_normalize is deprecated, use pandas.json_normalize instead\n",
      "  \n",
      "C:\\Users\\rsher\\anaconda3\\lib\\site-packages\\ipykernel_launcher.py:15: FutureWarning: pandas.io.json.json_normalize is deprecated, use pandas.json_normalize instead\n",
      "  from ipykernel import kernelapp as app\n"
     ]
    },
    {
     "data": {
      "text/html": [
       "<div>\n",
       "<style scoped>\n",
       "    .dataframe tbody tr th:only-of-type {\n",
       "        vertical-align: middle;\n",
       "    }\n",
       "\n",
       "    .dataframe tbody tr th {\n",
       "        vertical-align: top;\n",
       "    }\n",
       "\n",
       "    .dataframe thead th {\n",
       "        text-align: right;\n",
       "    }\n",
       "</style>\n",
       "<table border=\"1\" class=\"dataframe\">\n",
       "  <thead>\n",
       "    <tr style=\"text-align: right;\">\n",
       "      <th></th>\n",
       "      <th>name</th>\n",
       "      <th>sizes</th>\n",
       "      <th>url_key</th>\n",
       "      <th>media</th>\n",
       "      <th>brand_name</th>\n",
       "      <th>is_premium</th>\n",
       "      <th>family_articles</th>\n",
       "      <th>flags</th>\n",
       "      <th>product_group</th>\n",
       "      <th>delivery_promises</th>\n",
       "      <th>price.original</th>\n",
       "      <th>price.promotional</th>\n",
       "      <th>price.has_different_prices</th>\n",
       "      <th>price.has_different_original_prices</th>\n",
       "      <th>price.has_different_promotional_prices</th>\n",
       "      <th>price.has_discount_on_selected_sizes_only</th>\n",
       "      <th>tracking_information.metrigo_impression_urls</th>\n",
       "      <th>tracking_information.impression_beacon</th>\n",
       "      <th>tracking_information.source</th>\n",
       "    </tr>\n",
       "    <tr>\n",
       "      <th>sku</th>\n",
       "      <th></th>\n",
       "      <th></th>\n",
       "      <th></th>\n",
       "      <th></th>\n",
       "      <th></th>\n",
       "      <th></th>\n",
       "      <th></th>\n",
       "      <th></th>\n",
       "      <th></th>\n",
       "      <th></th>\n",
       "      <th></th>\n",
       "      <th></th>\n",
       "      <th></th>\n",
       "      <th></th>\n",
       "      <th></th>\n",
       "      <th></th>\n",
       "      <th></th>\n",
       "      <th></th>\n",
       "      <th></th>\n",
       "    </tr>\n",
       "  </thead>\n",
       "  <tbody>\n",
       "    <tr>\n",
       "      <th>C2343F01H-A11</th>\n",
       "      <td>BLOOMINGPORT - Veste coupe-vent - white/nocturnal</td>\n",
       "      <td>[104, 116, 128]</td>\n",
       "      <td>columbia-bloomingport-veste-coupe-vent-whiteno...</td>\n",
       "      <td>[{'path': 'C2/34/3F/01/HA/11/C2343F01H-A11@13....</td>\n",
       "      <td>Columbia</td>\n",
       "      <td>False</td>\n",
       "      <td>[{'sku': 'C2343F01H-A11', 'url_key': 'columbia...</td>\n",
       "      <td>[{'key': 'discountRate', 'value': '-20%', 'tra...</td>\n",
       "      <td>clothing</td>\n",
       "      <td>[]</td>\n",
       "      <td>44,95 €</td>\n",
       "      <td>35,95 €</td>\n",
       "      <td>False</td>\n",
       "      <td>False</td>\n",
       "      <td>False</td>\n",
       "      <td>False</td>\n",
       "      <td>[https://ccp-et.adtechlab.zalan.do/event/sbv?z...</td>\n",
       "      <td>https://ccp-et.adtechlab.zalan.do/event/sbv?z=...</td>\n",
       "      <td>ccp</td>\n",
       "    </tr>\n",
       "    <tr>\n",
       "      <th>AD181000V-K11</th>\n",
       "      <td>THIN TREF CREW 2 PACK - Chaussettes - skytin/t...</td>\n",
       "      <td>[35/38, 39/42, 43/46]</td>\n",
       "      <td>adidas-originals-crew-2-pack-chaussettes-ad181...</td>\n",
       "      <td>[{'path': 'AD/18/10/00/VK/11/AD181000V-K11@6.j...</td>\n",
       "      <td>adidas Originals</td>\n",
       "      <td>False</td>\n",
       "      <td>[{'sku': 'AD181000V-K11', 'url_key': 'adidas-o...</td>\n",
       "      <td>[{'key': 'discountRate', 'value': '-10%', 'tra...</td>\n",
       "      <td>underwear</td>\n",
       "      <td>[]</td>\n",
       "      <td>9,95 €</td>\n",
       "      <td>8,95 €</td>\n",
       "      <td>False</td>\n",
       "      <td>False</td>\n",
       "      <td>False</td>\n",
       "      <td>False</td>\n",
       "      <td>[https://ccp-et.adtechlab.zalan.do/event/sbv?z...</td>\n",
       "      <td>https://ccp-et.adtechlab.zalan.do/event/sbv?z=...</td>\n",
       "      <td>ccp</td>\n",
       "    </tr>\n",
       "  </tbody>\n",
       "</table>\n",
       "</div>"
      ],
      "text/plain": [
       "                                                            name  \\\n",
       "sku                                                                \n",
       "C2343F01H-A11  BLOOMINGPORT - Veste coupe-vent - white/nocturnal   \n",
       "AD181000V-K11  THIN TREF CREW 2 PACK - Chaussettes - skytin/t...   \n",
       "\n",
       "                               sizes  \\\n",
       "sku                                    \n",
       "C2343F01H-A11        [104, 116, 128]   \n",
       "AD181000V-K11  [35/38, 39/42, 43/46]   \n",
       "\n",
       "                                                         url_key  \\\n",
       "sku                                                                \n",
       "C2343F01H-A11  columbia-bloomingport-veste-coupe-vent-whiteno...   \n",
       "AD181000V-K11  adidas-originals-crew-2-pack-chaussettes-ad181...   \n",
       "\n",
       "                                                           media  \\\n",
       "sku                                                                \n",
       "C2343F01H-A11  [{'path': 'C2/34/3F/01/HA/11/C2343F01H-A11@13....   \n",
       "AD181000V-K11  [{'path': 'AD/18/10/00/VK/11/AD181000V-K11@6.j...   \n",
       "\n",
       "                     brand_name  is_premium  \\\n",
       "sku                                           \n",
       "C2343F01H-A11          Columbia       False   \n",
       "AD181000V-K11  adidas Originals       False   \n",
       "\n",
       "                                                 family_articles  \\\n",
       "sku                                                                \n",
       "C2343F01H-A11  [{'sku': 'C2343F01H-A11', 'url_key': 'columbia...   \n",
       "AD181000V-K11  [{'sku': 'AD181000V-K11', 'url_key': 'adidas-o...   \n",
       "\n",
       "                                                           flags  \\\n",
       "sku                                                                \n",
       "C2343F01H-A11  [{'key': 'discountRate', 'value': '-20%', 'tra...   \n",
       "AD181000V-K11  [{'key': 'discountRate', 'value': '-10%', 'tra...   \n",
       "\n",
       "              product_group delivery_promises price.original  \\\n",
       "sku                                                            \n",
       "C2343F01H-A11      clothing                []        44,95 €   \n",
       "AD181000V-K11     underwear                []         9,95 €   \n",
       "\n",
       "              price.promotional  price.has_different_prices  \\\n",
       "sku                                                           \n",
       "C2343F01H-A11           35,95 €                       False   \n",
       "AD181000V-K11            8,95 €                       False   \n",
       "\n",
       "               price.has_different_original_prices  \\\n",
       "sku                                                  \n",
       "C2343F01H-A11                                False   \n",
       "AD181000V-K11                                False   \n",
       "\n",
       "               price.has_different_promotional_prices  \\\n",
       "sku                                                     \n",
       "C2343F01H-A11                                   False   \n",
       "AD181000V-K11                                   False   \n",
       "\n",
       "               price.has_discount_on_selected_sizes_only  \\\n",
       "sku                                                        \n",
       "C2343F01H-A11                                      False   \n",
       "AD181000V-K11                                      False   \n",
       "\n",
       "                    tracking_information.metrigo_impression_urls  \\\n",
       "sku                                                                \n",
       "C2343F01H-A11  [https://ccp-et.adtechlab.zalan.do/event/sbv?z...   \n",
       "AD181000V-K11  [https://ccp-et.adtechlab.zalan.do/event/sbv?z...   \n",
       "\n",
       "                          tracking_information.impression_beacon  \\\n",
       "sku                                                                \n",
       "C2343F01H-A11  https://ccp-et.adtechlab.zalan.do/event/sbv?z=...   \n",
       "AD181000V-K11  https://ccp-et.adtechlab.zalan.do/event/sbv?z=...   \n",
       "\n",
       "              tracking_information.source  \n",
       "sku                                        \n",
       "C2343F01H-A11                         ccp  \n",
       "AD181000V-K11                         ccp  "
      ]
     },
     "execution_count": 12,
     "metadata": {},
     "output_type": "execute_result"
    }
   ],
   "source": [
    "# Get the total number of pages\n",
    "total_pages=results['pagination']['page_count']\n",
    "usr_agent = 'Mozilla/5.0 (Windows NT 10.0; Win64; x64) AppleWebKit/537.36 (KHTML, like Gecko) Chrome/81.0.4044.141 Safari/537.36'\n",
    "headers = {'User-Agent' : usr_agent}\n",
    "\n",
    "\n",
    "# Your code\n",
    "df=pd.DataFrame()\n",
    "for i in range(total_pages):\n",
    "    k=1*i\n",
    "    url=f'https://www.zalando.fr/api/catalog/articles?categories=promo-enfant&limit=84&offset={k}&sort=sale'\n",
    "    response = requests.get(url, headers = headers)\n",
    "    results = response.json()\n",
    "    flattened_data = json_normalize(results)\n",
    "    flattened_data1 = json_normalize(flattened_data.articles[0])\n",
    "    flattened_data1=flattened_data1.set_index('sku')\n",
    "    df = df.append(flattened_data1)\n",
    "\n",
    "df.head(2)"
   ]
  },
  {
   "cell_type": "markdown",
   "metadata": {},
   "source": [
    "#### Display the trending brand in DataFrame"
   ]
  },
  {
   "cell_type": "code",
   "execution_count": 6,
   "metadata": {},
   "outputs": [
    {
     "data": {
      "text/plain": [
       "'Nike Sportswear'"
      ]
     },
     "execution_count": 6,
     "metadata": {},
     "output_type": "execute_result"
    }
   ],
   "source": [
    "df.brand_name.value_counts().index[0]"
   ]
  },
  {
   "cell_type": "markdown",
   "metadata": {},
   "source": [
    "#### Display the brand with maximal total discount (sum of discounts on all goods)"
   ]
  },
  {
   "cell_type": "code",
   "execution_count": 7,
   "metadata": {},
   "outputs": [],
   "source": [
    "#Our data is still text. Convert prices into numbers:\n",
    "df['price.original']=df['price.original'].str.extract('(\\d*,\\d*)')\n",
    "df['price.promotional']=df['price.promotional'].str.extract('(\\d*,\\d*)')\n",
    "\n",
    "df['price.original'] = [x.replace(',', '.') for x in df['price.original']]\n",
    "df['price.promotional'] = [x.replace(',', '.') for x in df['price.promotional']]"
   ]
  },
  {
   "cell_type": "code",
   "execution_count": 8,
   "metadata": {},
   "outputs": [],
   "source": [
    "df['discount_amount']=df['price.original'].astype(float)-df['price.promotional'].astype(float)\n",
    "df1=df.copy()"
   ]
  },
  {
   "cell_type": "code",
   "execution_count": 9,
   "metadata": {},
   "outputs": [],
   "source": [
    "total_disc=df1.groupby(['brand_name']).sum().discount_amount"
   ]
  },
  {
   "cell_type": "code",
   "execution_count": 10,
   "metadata": {},
   "outputs": [
    {
     "data": {
      "text/plain": [
       "'Nike Sportswear'"
      ]
     },
     "execution_count": 10,
     "metadata": {},
     "output_type": "execute_result"
    }
   ],
   "source": [
    "total_disc.sort_values(ascending=False).index[0]"
   ]
  },
  {
   "cell_type": "markdown",
   "metadata": {},
   "source": [
    "#### Display the brands without discount at all"
   ]
  },
  {
   "cell_type": "code",
   "execution_count": 11,
   "metadata": {},
   "outputs": [
    {
     "data": {
      "text/plain": [
       "Series([], Name: discount_amount, dtype: float64)"
      ]
     },
     "execution_count": 11,
     "metadata": {},
     "output_type": "execute_result"
    }
   ],
   "source": [
    "total_disc[total_disc==0]"
   ]
  }
 ],
 "metadata": {
  "kernelspec": {
   "display_name": "Python 3",
   "language": "python",
   "name": "python3"
  },
  "language_info": {
   "codemirror_mode": {
    "name": "ipython",
    "version": 3
   },
   "file_extension": ".py",
   "mimetype": "text/x-python",
   "name": "python",
   "nbconvert_exporter": "python",
   "pygments_lexer": "ipython3",
   "version": "3.7.6"
  }
 },
 "nbformat": 4,
 "nbformat_minor": 2
}
